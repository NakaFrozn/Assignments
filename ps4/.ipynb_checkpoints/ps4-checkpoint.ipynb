{
 "cells": [
  {
   "cell_type": "code",
   "execution_count": 89,
   "id": "32a60488",
   "metadata": {
    "deletable": false,
    "editable": false,
    "tags": []
   },
   "outputs": [],
   "source": [
    "# Initialize Otter\n",
    "import otter\n",
    "grader = otter.Notebook(\"ps4.ipynb\")"
   ]
  },
  {
   "cell_type": "markdown",
   "id": "808d7e8c-473d-4dee-b0cb-1cea44c3577b",
   "metadata": {},
   "source": [
    "# PS4: Regular expressions\n",
    "In this problem set set you will get some basic practice using regular expressions. In Python the regular expressions module is called `re`:"
   ]
  },
  {
   "cell_type": "code",
   "execution_count": 90,
   "id": "969f0cab",
   "metadata": {
    "tags": []
   },
   "outputs": [],
   "source": [
    "import re"
   ]
  },
  {
   "cell_type": "markdown",
   "id": "c9662a87",
   "metadata": {},
   "source": [
    "## Queston 1: Matching words\n",
    "We'll practice on the file `words.txt.gz` included with the problem set."
   ]
  },
  {
   "cell_type": "markdown",
   "id": "b3abbd34",
   "metadata": {
    "deletable": false,
    "editable": false
   },
   "source": [
    "**1(a)** (2 pts) Read the file, so that you have a list of strings, one for each word. Save this list as `words`.\n",
    "\n",
    "**Hint:** you can use `gzip.open` method to read a `.gz` file"
   ]
  },
  {
   "cell_type": "code",
   "execution_count": 91,
   "id": "1b0d9b5c",
   "metadata": {
    "tags": []
   },
   "outputs": [],
   "source": [
    "import gzip\n",
    "words = [] # your solution should replace the empty list\n",
    "with gzip.open(\"./words.txt.gz\",'rb') as f:\n",
    "    for line in f:\n",
    "        words.append(line.rstrip().decode(\"utf-8\"))"
   ]
  },
  {
   "cell_type": "code",
   "execution_count": 92,
   "id": "c5bc1bc3",
   "metadata": {
    "deletable": false,
    "editable": false,
    "tags": []
   },
   "outputs": [
    {
     "data": {
      "text/html": [
       "<p><strong><pre style='display: inline;'>q1a</pre></strong> passed! 🙌</p>"
      ],
      "text/plain": [
       "q1a results: All test cases passed!"
      ]
     },
     "execution_count": 92,
     "metadata": {},
     "output_type": "execute_result"
    }
   ],
   "source": [
    "grader.check(\"q1a\")"
   ]
  },
  {
   "cell_type": "markdown",
   "id": "8229d046",
   "metadata": {
    "deletable": false,
    "editable": false
   },
   "source": [
    "**1(b)** (2 pts) Write a regular expression that matches any three consecutive vowels, and use it to produce a list named `three_vowels` of all such words that occur in this data set."
   ]
  },
  {
   "cell_type": "code",
   "execution_count": 93,
   "id": "22288df1",
   "metadata": {
    "tags": []
   },
   "outputs": [],
   "source": [
    "three_vowels = [word for word in words if re.search(r'[aeiou]{3}',word) is not None]"
   ]
  },
  {
   "cell_type": "code",
   "execution_count": 94,
   "id": "c58d7e0b",
   "metadata": {
    "deletable": false,
    "editable": false,
    "tags": []
   },
   "outputs": [
    {
     "data": {
      "text/html": [
       "<p><strong><pre style='display: inline;'>q1b</pre></strong> passed! 🌟</p>"
      ],
      "text/plain": [
       "q1b results: All test cases passed!"
      ]
     },
     "execution_count": 94,
     "metadata": {},
     "output_type": "execute_result"
    }
   ],
   "source": [
    "grader.check(\"q1b\")"
   ]
  },
  {
   "cell_type": "markdown",
   "id": "8caf5775",
   "metadata": {
    "deletable": false,
    "editable": false
   },
   "source": [
    "**1(c)** (2 pts) Write a regular expression that a single word containing an even number (greater than `0`) of the letter `e`, and use it to produce a list named `even_e` of all such words in the data set."
   ]
  },
  {
   "cell_type": "code",
   "execution_count": 95,
   "id": "491277a6",
   "metadata": {
    "tags": []
   },
   "outputs": [],
   "source": [
    "even_e = [word for word in words if len(re.findall(r'e',word))>0 and len(re.findall(r'e',word))%2==0]"
   ]
  },
  {
   "cell_type": "code",
   "execution_count": 96,
   "id": "fb67a061",
   "metadata": {
    "deletable": false,
    "editable": false,
    "tags": []
   },
   "outputs": [
    {
     "data": {
      "text/html": [
       "<p><strong><pre style='display: inline;'>q1c</pre></strong> passed! 🌟</p>"
      ],
      "text/plain": [
       "q1c results: All test cases passed!"
      ]
     },
     "execution_count": 96,
     "metadata": {},
     "output_type": "execute_result"
    }
   ],
   "source": [
    "grader.check(\"q1c\")"
   ]
  },
  {
   "cell_type": "markdown",
   "id": "0c09b417",
   "metadata": {
    "deletable": false,
    "editable": false
   },
   "source": [
    "**1(d)** (2 pts) Write a regular expression that matches any string that begins and ends with a consonant, and has no consonants in between. Your answer should be a string named `consonants_begin_end`."
   ]
  },
  {
   "cell_type": "code",
   "execution_count": 97,
   "id": "9fbcd90e",
   "metadata": {
    "tags": []
   },
   "outputs": [],
   "source": [
    "consonants_begin_end = r'^[bcdfghjklmnpqrstvwxyz][^bcdfghjklmnpqrstvwxyz]*[bcdfghjklmnpqrstvwxyz]$'"
   ]
  },
  {
   "cell_type": "code",
   "execution_count": 98,
   "id": "c9edb1be",
   "metadata": {
    "deletable": false,
    "editable": false,
    "tags": []
   },
   "outputs": [
    {
     "data": {
      "text/html": [
       "<p><strong><pre style='display: inline;'>q1d</pre></strong> passed! 🚀</p>"
      ],
      "text/plain": [
       "q1d results: All test cases passed!"
      ]
     },
     "execution_count": 98,
     "metadata": {},
     "output_type": "execute_result"
    }
   ],
   "source": [
    "grader.check(\"q1d\")"
   ]
  },
  {
   "cell_type": "markdown",
   "id": "2001d010",
   "metadata": {
    "deletable": false,
    "editable": false
   },
   "source": [
    "**1(e)** (2 pts) Write a regular expression that matches any word *at least four letters long* whose last two letters are the first two letters in reverse order, and use it to produce a list named `fwd_2_rev` of all such words in the dataset. (An example of such a word is `cardiac`.)"
   ]
  },
  {
   "cell_type": "code",
   "execution_count": 99,
   "id": "c8e35f19",
   "metadata": {
    "tags": []
   },
   "outputs": [],
   "source": [
    "pattern = r'^([A-Za-z])([A-Za-z])[A-Za-z]*\\2\\1$'\n",
    "fwd_2_rev = [word for word in words if re.match(pattern,word) is not None]"
   ]
  },
  {
   "cell_type": "code",
   "execution_count": 100,
   "id": "43fa212d",
   "metadata": {
    "deletable": false,
    "editable": false,
    "tags": []
   },
   "outputs": [
    {
     "data": {
      "text/html": [
       "<p><strong><pre style='display: inline;'>q1e</pre></strong> passed! 🎉</p>"
      ],
      "text/plain": [
       "q1e results: All test cases passed!"
      ]
     },
     "execution_count": 100,
     "metadata": {},
     "output_type": "execute_result"
    }
   ],
   "source": [
    "grader.check(\"q1e\")"
   ]
  },
  {
   "cell_type": "markdown",
   "id": "a4f76f3c",
   "metadata": {},
   "source": [
    "## Question 2: Filtering Internet traffic\n",
    "In this problem, you'll get a taste of a more realistic application of\n",
    "regular expressions. The file `SkypeIRC.txt.gz` contains a capture of Internet traffic generated\n",
    "by a laptop while it was running the program Skype. Each line represents a single \"packet\" of data that was either sent or received by the machine."
   ]
  },
  {
   "cell_type": "markdown",
   "id": "ce74e3c2",
   "metadata": {},
   "source": [
    "The first line of the file is:\n",
    "```\n",
    "    1   0.000000  192.168.1.2 → 212.204.214.114 IRC 96 Request (ISON)\n",
    "```\n",
    "The first two fields are a counter and timestamp indicating the total number of packets captured so far, and the time (in seconds) that has elapsed since the capture was initiated. Following that, `192.168.1.2 → 212.204.214.114` indicates that the packet was being sent from the [IP address](https://en.wikipedia.org/wiki/IP_address) `192.168.1.2` to `212.204.214.114`. The remainder of the line is a description of the packet contents, which varies from packet to packet."
   ]
  },
  {
   "cell_type": "markdown",
   "id": "1fba51cd",
   "metadata": {
    "deletable": false,
    "editable": false
   },
   "source": [
    "**2(a)** (2 pts) Construct a regular expression named `zero_to_255` that matches a single line containing numbers between 0 and 255, inclusive. Numbers with leading zeros should not match (except for 0 itself), so \"40\" should match, but \"040\" should not. We will surround your regular expression with the anchors \"^\" and \"$\" when testing; you do not need to include them."
   ]
  },
  {
   "cell_type": "code",
   "execution_count": 101,
   "id": "b76fbf63",
   "metadata": {
    "tags": []
   },
   "outputs": [],
   "source": [
    "zero_to_255 = '(0|[1-9]\\d?|1\\d\\d|2[0-4]\\d|25[0-5])'"
   ]
  },
  {
   "cell_type": "code",
   "execution_count": 102,
   "id": "22df3d35",
   "metadata": {
    "deletable": false,
    "editable": false,
    "tags": []
   },
   "outputs": [
    {
     "data": {
      "text/html": [
       "<p><strong><pre style='display: inline;'>q2a</pre></strong> passed! 🎉</p>"
      ],
      "text/plain": [
       "q2a results: All test cases passed!"
      ]
     },
     "execution_count": 102,
     "metadata": {},
     "output_type": "execute_result"
    }
   ],
   "source": [
    "grader.check(\"q2a\")"
   ]
  },
  {
   "cell_type": "markdown",
   "id": "c88393f7",
   "metadata": {
    "deletable": false,
    "editable": false
   },
   "source": [
    "**2(b)** (2 pts) Using your solution in the previous step, build a regular expression named `ip` that matches IP addresses. For the purpose of this exercise, we will define an IP address to be a string of the form `A.B.C.D`, where $A$, $B$, $C$, and $D$ are numbers between 0 and 255."
   ]
  },
  {
   "cell_type": "code",
   "execution_count": 103,
   "id": "002720f6",
   "metadata": {
    "tags": []
   },
   "outputs": [],
   "source": [
    "ip= '((1\\d\\d|0|[1-9]\\d?|2[0-4]\\d|25[0-5])(\\.(1\\d\\d|0|[1-9]\\d?|2[0-4]\\d|25[0-5])){3})'"
   ]
  },
  {
   "cell_type": "code",
   "execution_count": 104,
   "id": "4ddd7e2b",
   "metadata": {
    "deletable": false,
    "editable": false,
    "tags": []
   },
   "outputs": [
    {
     "data": {
      "text/html": [
       "<p><strong><pre style='display: inline;'>q2b</pre></strong> passed! 🍀</p>"
      ],
      "text/plain": [
       "q2b results: All test cases passed!"
      ]
     },
     "execution_count": 104,
     "metadata": {},
     "output_type": "execute_result"
    }
   ],
   "source": [
    "grader.check(\"q2b\")"
   ]
  },
  {
   "cell_type": "markdown",
   "id": "00deaef5",
   "metadata": {
    "deletable": false,
    "editable": false
   },
   "source": [
    "**2(c)** (2 pts) Create a regular expression that extracts the sender and receiever IP addresses from each line of the SkypeIRC log file, and use a `collections.Counter` to count up all the unique sender and receiver addresses in the data. What do you think is the IP address of your computer on which the capture was performed?"
   ]
  },
  {
   "cell_type": "markdown",
   "id": "52f93e59",
   "metadata": {},
   "source": [
    "I think the IP address of the host computer is probably the most common in the collection."
   ]
  },
  {
   "cell_type": "code",
   "execution_count": 105,
   "id": "453bcb98-398e-4009-918f-241dc213a5fb",
   "metadata": {
    "tags": []
   },
   "outputs": [],
   "source": [
    "from collections import Counter\n",
    "senders = Counter()\n",
    "receivers = Counter()\n",
    "with gzip.open(\"SkypeIRC.txt.gz\",'rb') as f:\n",
    "    for line in f:\n",
    "        line_decode = line.rstrip().decode(\"utf-8\")\n",
    "        ip_addr = re.findall(ip,line_decode)\n",
    "        #print(line_decode)\n",
    "        #print(ip_addr[0][0])\n",
    "        #print(ip_addr[1][0])\n",
    "        if len(ip_addr)>1:\n",
    "            senders.update([ip_addr[0][0]])\n",
    "            receivers.update([ip_addr[1][0]])"
   ]
  },
  {
   "cell_type": "code",
   "execution_count": 106,
   "id": "43b063f4",
   "metadata": {
    "deletable": false,
    "editable": false,
    "tags": []
   },
   "outputs": [
    {
     "data": {
      "text/html": [
       "<p><strong><pre style='display: inline;'>q2c</pre></strong> passed! 🙌</p>"
      ],
      "text/plain": [
       "q2c results: All test cases passed!"
      ]
     },
     "execution_count": 106,
     "metadata": {},
     "output_type": "execute_result"
    }
   ],
   "source": [
    "grader.check(\"q2c\")"
   ]
  },
  {
   "cell_type": "markdown",
   "id": "561152b6",
   "metadata": {
    "deletable": false,
    "editable": false
   },
   "source": [
    "## Submission\n",
    "\n",
    "Make sure you have run all cells in your notebook in order before running the cell below, so that all images/graphs appear in the output. The cell below will generate a zip file for you to submit. **Please save before exporting!**\n",
    "\n",
    "Upload this .zip file to Gradescope for grading."
   ]
  },
  {
   "cell_type": "code",
   "execution_count": null,
   "id": "afa0757c",
   "metadata": {
    "deletable": false,
    "editable": false
   },
   "outputs": [],
   "source": [
    "# Save your notebook first, then run this cell to export your submission.\n",
    "grader.export(pdf=False)"
   ]
  },
  {
   "cell_type": "markdown",
   "id": "ef339e5b",
   "metadata": {},
   "source": [
    " "
   ]
  }
 ],
 "metadata": {
  "kernelspec": {
   "display_name": "Python 3 (ipykernel)",
   "language": "python",
   "name": "python3"
  },
  "language_info": {
   "codemirror_mode": {
    "name": "ipython",
    "version": 3
   },
   "file_extension": ".py",
   "mimetype": "text/x-python",
   "name": "python",
   "nbconvert_exporter": "python",
   "pygments_lexer": "ipython3",
   "version": "3.11.3"
  },
  "otter": {
   "OK_FORMAT": true,
   "tests": {
    "q1a": {
     "name": "q1a",
     "points": 2,
     "suites": [
      {
       "cases": [
        {
         "code": ">>> assert len(words) == 113809\n",
         "hidden": false,
         "locked": false
        }
       ],
       "scored": true,
       "setup": "",
       "teardown": "",
       "type": "doctest"
      }
     ]
    },
    "q1b": {
     "name": "q1b",
     "points": 2,
     "suites": [
      {
       "cases": [
        {
         "code": ">>> assert len(three_vowels) == 1375\n",
         "hidden": false,
         "locked": false
        },
        {
         "code": ">>> assert \"oeillade\" in three_vowels\n",
         "hidden": false,
         "locked": false
        },
        {
         "code": ">>> three_vowels_soln = set([w for w in words if re.search(r\"[aeuio]{3}\", w)])\n>>> assert set(three_vowels) == set(three_vowels_soln)\n",
         "hidden": false,
         "locked": false
        }
       ],
       "scored": true,
       "setup": "",
       "teardown": "",
       "type": "doctest"
      }
     ]
    },
    "q1c": {
     "name": "q1c",
     "points": 2,
     "suites": [
      {
       "cases": [
        {
         "code": ">>> assert \"eye\" in even_e\n>>> assert \"eels\" in even_e\n>>> assert \"storekeeper\" in even_e\n>>> assert \"bird\" not in even_e\n>>> assert \"fed\" not in even_e\n>>> assert \"eleven\" not in even_e\n",
         "hidden": false,
         "locked": false
        }
       ],
       "scored": true,
       "setup": "",
       "teardown": "",
       "type": "doctest"
      }
     ]
    },
    "q1d": {
     "name": "q1d",
     "points": 2,
     "suites": [
      {
       "cases": [
        {
         "code": ">>> assert isinstance(consonants_begin_end, str)\n",
         "hidden": false,
         "locked": false
        },
        {
         "code": ">>> regexp = re.compile(consonants_begin_end)\n>>> assert regexp.match(\"dad\")\n>>> assert regexp.match(\"doom\")\n>>> assert regexp.match(\"mom\")\n>>> assert regexp.match(\"me ad\")\n>>> assert regexp.match(\"woooo!!!!! ah\")\n>>> assert not regexp.match(\"\")\n>>> assert not regexp.match(\"dad & mom\")\n>>> assert not regexp.match(\"dune\")\n",
         "hidden": false,
         "locked": false
        }
       ],
       "scored": true,
       "setup": "",
       "teardown": "",
       "type": "doctest"
      }
     ]
    },
    "q1e": {
     "name": "q1e",
     "points": 2,
     "suites": [
      {
       "cases": [
        {
         "code": ">>> assert \"cardiac\" in fwd_2_rev\n>>> assert \"defeated\" in fwd_2_rev\n>>> assert \"sees\" in fwd_2_rev\n",
         "hidden": false,
         "locked": false
        }
       ],
       "scored": true,
       "setup": "",
       "teardown": "",
       "type": "doctest"
      }
     ]
    },
    "q2a": {
     "name": "q2a",
     "points": 2,
     "suites": [
      {
       "cases": [
        {
         "code": ">>> assert isinstance(zero_to_255, str)\n>>> regexp = re.compile(r\"^\" + zero_to_255 + \"$\")\n>>> assert not regexp.match(\"001\")\n>>> assert not regexp.match(\"123 234\")\n>>> for i in range(256):\n...     assert regexp.match(str(i)), f\"{str(i)} did not match\"\n...     assert regexp.match(str(i)).groups() == (str(i), ), f\"{str(i)} should match exactly once\"\n",
         "hidden": false,
         "locked": false
        }
       ],
       "scored": true,
       "setup": "",
       "teardown": "",
       "type": "doctest"
      }
     ]
    },
    "q2b": {
     "name": "q2b",
     "points": 2,
     "suites": [
      {
       "cases": [
        {
         "code": ">>> assert isinstance(ip, str)\n>>> regexp = re.compile(r\"^\" + ip + r\"$\")\n>>> assert regexp.match(\"127.0.0.1\")\n>>> assert regexp.match(\"172.217.2.36\")\n>>> assert regexp.match(\"141.211.243.251\")\n>>> assert not regexp.match(\"1.2.3.400\")\n>>> assert not regexp.match(\"1.2.3.4.5\")\n",
         "hidden": false,
         "locked": false
        }
       ],
       "scored": true,
       "setup": "",
       "teardown": "",
       "type": "doctest"
      }
     ]
    },
    "q2c": {
     "name": "q2c",
     "points": 2,
     "suites": [
      {
       "cases": [
        {
         "code": ">>> assert senders['212.204.214.114'] == 141\n",
         "hidden": false,
         "locked": false
        },
        {
         "code": ">>> assert receivers['212.204.214.114'] == 159\n",
         "hidden": false,
         "locked": false
        }
       ],
       "scored": true,
       "setup": "",
       "teardown": "",
       "type": "doctest"
      }
     ]
    }
   }
  }
 },
 "nbformat": 4,
 "nbformat_minor": 5
}
